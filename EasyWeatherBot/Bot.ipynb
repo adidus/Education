{
 "cells": [
  {
   "cell_type": "code",
   "execution_count": null,
   "metadata": {},
   "outputs": [],
   "source": [
    "import requests \n",
    "from time import sleep\n",
    "\n",
    "url = \"https://api.telegram.org/bot673538238:AAHqdUqeKOYc4EhfyrH32R2W3jNUewlfxq4/\"\n",
    "\n",
    "\n",
    "def get_updates_json(request):  \n",
    "    params = {'timeout': 20, 'offset': None}\n",
    "    response = requests.get(request + 'getUpdates', data=params)\n",
    "    return response.json()\n",
    "\n",
    "def last_update(data):  \n",
    "    results = data['result']\n",
    "    total_updates = len(results) - 1\n",
    "    return results[total_updates]\n",
    "\n",
    "def get_chat_id(update):  \n",
    "    chat_id = update['message']['chat']['id']\n",
    "    return chat_id\n",
    "\n",
    "def send_mess(chat, text):  \n",
    "    params = {'chat_id': chat, 'text': text}\n",
    "    response = requests.post(url + 'sendMessage', data=params)\n",
    "    return response\n",
    "\n",
    "def get_weather(lat, long):\n",
    "    url = 'https://api.openweathermap.org/data/2.5/weather?lat={}&lon={}&units=metric&APPID=ce8ecc4e0cae998069c82abd84a834fd'.format(lat, long)\n",
    "    r = requests.get(url)\n",
    "    inf = r.json()\n",
    "    return inf\n",
    "\n",
    "def main():  \n",
    "    update_id = last_update(get_updates_json(url))['update_id']\n",
    "    while True:\n",
    "        lst = last_update(get_updates_json(url))\n",
    "        if update_id == lst['update_id']:\n",
    "            weather = get_weather(lst['message']['location']['latitude'], lst['message']['location']['longitude'])\n",
    "            res = (str(weather['name']) + '\\n' + str(weather['weather'][0]['main']) + '   ' + str(weather['main']['temp']) + '°С' \n",
    "        + '\\n' + str(weather['main']['humidity']) + '%' + '\\n' + str(weather['wind']['speed']) + ' m/s')\n",
    "            send_mess(get_chat_id(lst), res)\n",
    "#            send_mess(get_chat_id(last_update(get_updates_json(url))), 'test')\n",
    "            update_id += 1\n",
    "        sleep(1)       \n",
    "\n",
    "if __name__ == '__main__':  \n",
    "    main()"
   ]
  },
  {
   "cell_type": "code",
   "execution_count": 61,
   "metadata": {},
   "outputs": [
    {
     "data": {
      "text/plain": [
       "<Response [200]>"
      ]
     },
     "execution_count": 61,
     "metadata": {},
     "output_type": "execute_result"
    }
   ],
   "source": [
    "chat_id = get_chat_id(last_update(get_updates_json(url)))\n",
    "send_mess(chat_id, 'chotake')"
   ]
  },
  {
   "cell_type": "code",
   "execution_count": 128,
   "metadata": {},
   "outputs": [],
   "source": [
    "def get_weather(lat, long):\n",
    "    url = 'https://api.openweathermap.org/data/2.5/weather?lat={}&lon={}&units=metric&APPID=ce8ecc4e0cae998069c82abd84a834fd'.format(lat, long)\n",
    "    r = requests.get(url)\n",
    "    inf = r.json()\n",
    "    return inf"
   ]
  },
  {
   "cell_type": "code",
   "execution_count": 115,
   "metadata": {},
   "outputs": [
    {
     "data": {
      "text/plain": [
       "{'update_id': 944137719,\n",
       " 'message': {'message_id': 36,\n",
       "  'from': {'id': 260145775,\n",
       "   'is_bot': False,\n",
       "   'first_name': 'Andriy',\n",
       "   'last_name': 'Didus',\n",
       "   'username': 'a_didus',\n",
       "   'language_code': 'uk-UA'},\n",
       "  'chat': {'id': 260145775,\n",
       "   'first_name': 'Andriy',\n",
       "   'last_name': 'Didus',\n",
       "   'username': 'a_didus',\n",
       "   'type': 'private'},\n",
       "  'date': 1535928413,\n",
       "  'location': {'latitude': 50.449998, 'longitude': 30.450133}}}"
      ]
     },
     "execution_count": 115,
     "metadata": {},
     "output_type": "execute_result"
    }
   ],
   "source": [
    "u = last_update(get_updates_json(url))\n",
    "u"
   ]
  },
  {
   "cell_type": "code",
   "execution_count": 34,
   "metadata": {},
   "outputs": [
    {
     "data": {
      "text/plain": [
       "'ву'"
      ]
     },
     "execution_count": 34,
     "metadata": {},
     "output_type": "execute_result"
    }
   ],
   "source": [
    "u['message']['text']"
   ]
  },
  {
   "cell_type": "code",
   "execution_count": 209,
   "metadata": {},
   "outputs": [
    {
     "name": "stdout",
     "output_type": "stream",
     "text": [
      "Vyshneve\n",
      "Clear   16.31°С\n",
      "16.31%\n",
      "1 m/s\n"
     ]
    }
   ],
   "source": [
    "print(res)"
   ]
  },
  {
   "cell_type": "code",
   "execution_count": 206,
   "metadata": {},
   "outputs": [],
   "source": [
    "u = 'https://api.openweathermap.org/data/2.5/weather?lat={}&lon={}&units=metric&APPID=ce8ecc4e0cae998069c82abd84a834fd'.format(50.4, 30.4)\n",
    "d = requests.get(u)"
   ]
  },
  {
   "cell_type": "code",
   "execution_count": 208,
   "metadata": {},
   "outputs": [],
   "source": [
    "res = (str(d['name']) + '\\n' + str(d['weather'][0]['main']) + '   ' + str(d['main']['temp']) + '°С' \n",
    "        + '\\n' + str(d['main']['temp']) + '%' + '\\n' + str(d['wind']['speed']) + ' m/s')"
   ]
  },
  {
   "cell_type": "code",
   "execution_count": 207,
   "metadata": {},
   "outputs": [
    {
     "data": {
      "text/plain": [
       "{'coord': {'lon': 30.4, 'lat': 50.4},\n",
       " 'weather': [{'id': 800,\n",
       "   'main': 'Clear',\n",
       "   'description': 'clear sky',\n",
       "   'icon': '01n'}],\n",
       " 'base': 'stations',\n",
       " 'main': {'temp': 16.31,\n",
       "  'pressure': 1021,\n",
       "  'humidity': 67,\n",
       "  'temp_min': 15,\n",
       "  'temp_max': 17},\n",
       " 'visibility': 10000,\n",
       " 'wind': {'speed': 1, 'deg': 70},\n",
       " 'clouds': {'all': 0},\n",
       " 'dt': 1535931000,\n",
       " 'sys': {'type': 1,\n",
       "  'id': 7358,\n",
       "  'message': 0.0033,\n",
       "  'country': 'UA',\n",
       "  'sunrise': 1535858125,\n",
       "  'sunset': 1535906350},\n",
       " 'id': 689487,\n",
       " 'name': 'Vyshneve',\n",
       " 'cod': 200}"
      ]
     },
     "execution_count": 207,
     "metadata": {},
     "output_type": "execute_result"
    }
   ],
   "source": [
    "d = d.json()\n",
    "d"
   ]
  },
  {
   "cell_type": "code",
   "execution_count": null,
   "metadata": {},
   "outputs": [],
   "source": []
  }
 ],
 "metadata": {
  "kernelspec": {
   "display_name": "Python 3",
   "language": "python",
   "name": "python3"
  },
  "language_info": {
   "codemirror_mode": {
    "name": "ipython",
    "version": 3
   },
   "file_extension": ".py",
   "mimetype": "text/x-python",
   "name": "python",
   "nbconvert_exporter": "python",
   "pygments_lexer": "ipython3",
   "version": "3.6.5"
  }
 },
 "nbformat": 4,
 "nbformat_minor": 2
}
