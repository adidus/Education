{
 "cells": [
  {
   "cell_type": "code",
   "execution_count": 107,
   "metadata": {},
   "outputs": [],
   "source": [
    "from sklearn.cluster import MeanShift, estimate_bandwidth\n",
    "import pandas as pd\n",
    "import numpy as np"
   ]
  },
  {
   "cell_type": "code",
   "execution_count": 95,
   "metadata": {},
   "outputs": [
    {
     "data": {
      "text/html": [
       "<div>\n",
       "<style scoped>\n",
       "    .dataframe tbody tr th:only-of-type {\n",
       "        vertical-align: middle;\n",
       "    }\n",
       "\n",
       "    .dataframe tbody tr th {\n",
       "        vertical-align: top;\n",
       "    }\n",
       "\n",
       "    .dataframe thead th {\n",
       "        text-align: right;\n",
       "    }\n",
       "</style>\n",
       "<table border=\"1\" class=\"dataframe\">\n",
       "  <thead>\n",
       "    <tr style=\"text-align: right;\">\n",
       "      <th></th>\n",
       "      <th>0</th>\n",
       "      <th>1</th>\n",
       "      <th>2</th>\n",
       "      <th>3</th>\n",
       "      <th>4</th>\n",
       "      <th>5</th>\n",
       "    </tr>\n",
       "  </thead>\n",
       "  <tbody>\n",
       "    <tr>\n",
       "      <th>0</th>\n",
       "      <td>id</td>\n",
       "      <td>user_id</td>\n",
       "      <td>venue_id</td>\n",
       "      <td>latitude</td>\n",
       "      <td>longitude</td>\n",
       "      <td>created_at</td>\n",
       "    </tr>\n",
       "    <tr>\n",
       "      <th>2</th>\n",
       "      <td>984301</td>\n",
       "      <td>2041916</td>\n",
       "      <td>5222</td>\n",
       "      <td></td>\n",
       "      <td></td>\n",
       "      <td>2012-04-21 17:39:01</td>\n",
       "    </tr>\n",
       "    <tr>\n",
       "      <th>3</th>\n",
       "      <td>984222</td>\n",
       "      <td>15824</td>\n",
       "      <td>5222</td>\n",
       "      <td>38.8951118</td>\n",
       "      <td>-77.0363658</td>\n",
       "      <td>2012-04-21 17:43:47</td>\n",
       "    </tr>\n",
       "    <tr>\n",
       "      <th>4</th>\n",
       "      <td>984315</td>\n",
       "      <td>1764391</td>\n",
       "      <td>5222</td>\n",
       "      <td></td>\n",
       "      <td></td>\n",
       "      <td>2012-04-21 17:37:18</td>\n",
       "    </tr>\n",
       "    <tr>\n",
       "      <th>5</th>\n",
       "      <td>984234</td>\n",
       "      <td>44652</td>\n",
       "      <td>5222</td>\n",
       "      <td>33.800745</td>\n",
       "      <td>-84.41052</td>\n",
       "      <td>2012-04-21 17:43:43</td>\n",
       "    </tr>\n",
       "  </tbody>\n",
       "</table>\n",
       "</div>"
      ],
      "text/plain": [
       "        0        1         2           3            4                    5\n",
       "0      id  user_id  venue_id    latitude    longitude           created_at\n",
       "2  984301  2041916      5222                           2012-04-21 17:39:01\n",
       "3  984222    15824      5222  38.8951118  -77.0363658  2012-04-21 17:43:47\n",
       "4  984315  1764391      5222                           2012-04-21 17:37:18\n",
       "5  984234    44652      5222   33.800745    -84.41052  2012-04-21 17:43:43"
      ]
     },
     "execution_count": 95,
     "metadata": {},
     "output_type": "execute_result"
    }
   ],
   "source": [
    "f = open('checkins.dat', \"r\")\n",
    "data = []\n",
    "for line in f:\n",
    "    line_data = line.split('|')\n",
    "    line_data = [token.strip() for token in line_data]\n",
    "    data.append(line_data)\n",
    "data = pd.DataFrame(data)\n",
    "data = data.drop(data.index[[1]])\n",
    "data.to_csv(r'checkins.csv')\n",
    "data.head()"
   ]
  },
  {
   "cell_type": "code",
   "execution_count": 100,
   "metadata": {},
   "outputs": [
    {
     "name": "stderr",
     "output_type": "stream",
     "text": [
      "C:\\Users\\didus\\Anaconda3\\lib\\site-packages\\IPython\\core\\interactiveshell.py:2785: DtypeWarning: Columns (1) have mixed types. Specify dtype option on import or set low_memory=False.\n",
      "  interactivity=interactivity, compiler=compiler, result=result)\n"
     ]
    },
    {
     "data": {
      "text/html": [
       "<div>\n",
       "<style scoped>\n",
       "    .dataframe tbody tr th:only-of-type {\n",
       "        vertical-align: middle;\n",
       "    }\n",
       "\n",
       "    .dataframe tbody tr th {\n",
       "        vertical-align: top;\n",
       "    }\n",
       "\n",
       "    .dataframe thead th {\n",
       "        text-align: right;\n",
       "    }\n",
       "</style>\n",
       "<table border=\"1\" class=\"dataframe\">\n",
       "  <thead>\n",
       "    <tr style=\"text-align: right;\">\n",
       "      <th></th>\n",
       "      <th>id</th>\n",
       "      <th>user_id</th>\n",
       "      <th>venue_id</th>\n",
       "      <th>latitude</th>\n",
       "      <th>longitude</th>\n",
       "      <th>created_at</th>\n",
       "    </tr>\n",
       "  </thead>\n",
       "  <tbody>\n",
       "    <tr>\n",
       "      <th>0</th>\n",
       "      <td>984301</td>\n",
       "      <td>2041916.0</td>\n",
       "      <td>5222.0</td>\n",
       "      <td>NaN</td>\n",
       "      <td>NaN</td>\n",
       "      <td>2012-04-21 17:39:01</td>\n",
       "    </tr>\n",
       "    <tr>\n",
       "      <th>1</th>\n",
       "      <td>984222</td>\n",
       "      <td>15824.0</td>\n",
       "      <td>5222.0</td>\n",
       "      <td>38.895112</td>\n",
       "      <td>-77.036366</td>\n",
       "      <td>2012-04-21 17:43:47</td>\n",
       "    </tr>\n",
       "    <tr>\n",
       "      <th>2</th>\n",
       "      <td>984315</td>\n",
       "      <td>1764391.0</td>\n",
       "      <td>5222.0</td>\n",
       "      <td>NaN</td>\n",
       "      <td>NaN</td>\n",
       "      <td>2012-04-21 17:37:18</td>\n",
       "    </tr>\n",
       "    <tr>\n",
       "      <th>3</th>\n",
       "      <td>984234</td>\n",
       "      <td>44652.0</td>\n",
       "      <td>5222.0</td>\n",
       "      <td>33.800745</td>\n",
       "      <td>-84.410520</td>\n",
       "      <td>2012-04-21 17:43:43</td>\n",
       "    </tr>\n",
       "    <tr>\n",
       "      <th>4</th>\n",
       "      <td>984249</td>\n",
       "      <td>2146840.0</td>\n",
       "      <td>5222.0</td>\n",
       "      <td>NaN</td>\n",
       "      <td>NaN</td>\n",
       "      <td>2012-04-21 17:42:58</td>\n",
       "    </tr>\n",
       "  </tbody>\n",
       "</table>\n",
       "</div>"
      ],
      "text/plain": [
       "       id    user_id  venue_id   latitude  longitude           created_at\n",
       "0  984301  2041916.0    5222.0        NaN        NaN  2012-04-21 17:39:01\n",
       "1  984222    15824.0    5222.0  38.895112 -77.036366  2012-04-21 17:43:47\n",
       "2  984315  1764391.0    5222.0        NaN        NaN  2012-04-21 17:37:18\n",
       "3  984234    44652.0    5222.0  33.800745 -84.410520  2012-04-21 17:43:43\n",
       "4  984249  2146840.0    5222.0        NaN        NaN  2012-04-21 17:42:58"
      ]
     },
     "execution_count": 100,
     "metadata": {},
     "output_type": "execute_result"
    }
   ],
   "source": [
    "df = pd.read_csv(r'checkins.csv', header=1)\n",
    "df = df.drop('0', axis=1)\n",
    "df.head()"
   ]
  },
  {
   "cell_type": "code",
   "execution_count": 101,
   "metadata": {},
   "outputs": [
    {
     "name": "stdout",
     "output_type": "stream",
     "text": [
      "(1021968, 6)\n",
      "(396634, 6)\n"
     ]
    }
   ],
   "source": [
    "print(df.shape)\n",
    "df = df.dropna(subset=['id', 'latitude'])\n",
    "print(df.shape)"
   ]
  },
  {
   "cell_type": "code",
   "execution_count": 102,
   "metadata": {},
   "outputs": [],
   "source": [
    "sub_df = df.head(100000)"
   ]
  },
  {
   "cell_type": "code",
   "execution_count": 110,
   "metadata": {},
   "outputs": [
    {
     "name": "stderr",
     "output_type": "stream",
     "text": [
      "C:\\Users\\didus\\Anaconda3\\lib\\site-packages\\pandas\\core\\frame.py:3694: SettingWithCopyWarning: \n",
      "A value is trying to be set on a copy of a slice from a DataFrame\n",
      "\n",
      "See the caveats in the documentation: http://pandas.pydata.org/pandas-docs/stable/indexing.html#indexing-view-versus-copy\n",
      "  errors=errors)\n"
     ]
    }
   ],
   "source": [
    "sub_df.shape\n",
    "sub_df.drop(['created_at', 'id', 'user_id', 'venue_id'], axis=1, inplace=True)"
   ]
  },
  {
   "cell_type": "code",
   "execution_count": 112,
   "metadata": {},
   "outputs": [
    {
     "data": {
      "text/plain": [
       "array([[  40.7177164 ,  -73.99183542],\n",
       "       [  33.44943805, -112.00213969],\n",
       "       [  33.44638027, -111.90188756],\n",
       "       ...,\n",
       "       [  38.891565  , -121.2930079 ],\n",
       "       [  42.5953378 ,  -78.9411461 ],\n",
       "       [  41.5822716 ,  -85.8344383 ]])"
      ]
     },
     "execution_count": 112,
     "metadata": {},
     "output_type": "execute_result"
    }
   ],
   "source": [
    "ms = MeanShift(bandwidth=0.1)\n",
    "ms.fit(sub_df)\n",
    "ms.predict(sub_df)\n",
    "cluster_centers = ms.cluster_centers_\n",
    "cluster_centers"
   ]
  },
  {
   "cell_type": "code",
   "execution_count": 127,
   "metadata": {},
   "outputs": [],
   "source": [
    "clusters = ms.labels_\n",
    "cluster_elem  = dict()\n",
    "\n",
    "for cluster in clusters:\n",
    "    if cluster in cluster_elem:\n",
    "        cluster_elem[cluster] += 1\n",
    "    else:\n",
    "        cluster_elem[cluster] = 1"
   ]
  },
  {
   "cell_type": "code",
   "execution_count": 165,
   "metadata": {},
   "outputs": [
    {
     "name": "stdout",
     "output_type": "stream",
     "text": [
      "[ 40.7177164  -73.99183542]\n",
      "[ 40.7177164  -73.99183542]\n",
      "[  33.44943805 -112.00213969]\n",
      "[  37.68868157 -122.40933037]\n",
      "[  36.11722914 -115.17107342]\n",
      "[  34.06039755 -118.24870903]\n",
      "[  33.81730643 -117.89124917]\n",
      "[ 25.78581242 -80.21793804]\n",
      "[  33.80987796 -118.14892381]\n",
      "[51.50299126 -0.12553729]\n",
      "[52.37296399  4.89231722]\n",
      "[-33.86063043 151.20477593]\n"
     ]
    }
   ],
   "source": [
    "offices = [\n",
    "    (33.751277, -118.188740),\n",
    "    (25.867736, -80.324116),\n",
    "    (51.503016, -0.075479),\n",
    "    (52.378894, 4.885084),\n",
    "    (39.366487, 117.036146),\n",
    "    (-33.868457, 151.205134),\n",
    "]\n",
    "\n",
    "best_coor = [[]]\n",
    "best_dist = np.inf\n",
    "i = 0\n",
    "for idx in range(len(cluster_centers)):\n",
    "    if cluster_elem[idx] < 15:\n",
    "        continue\n",
    "    \n",
    "    curr_coor = cluster_centers[idx]\n",
    "    for coordinate in offices:\n",
    "        curr_dist = ((curr_coor[0] - coordinate[0]) ** 2 + \n",
    "                     (curr_coor[1] - coordinate[1]) ** 2) ** 0.5\n",
    "        \n",
    "        if curr_dist < best_dist:\n",
    "            best_dist = curr_dist\n",
    "            print(curr_coor)"
   ]
  },
  {
   "cell_type": "code",
   "execution_count": 162,
   "metadata": {},
   "outputs": [
    {
     "data": {
      "text/plain": [
       "[]"
      ]
     },
     "execution_count": 162,
     "metadata": {},
     "output_type": "execute_result"
    }
   ],
   "source": [
    "best_coor[0]"
   ]
  },
  {
   "cell_type": "code",
   "execution_count": 119,
   "metadata": {},
   "outputs": [],
   "source": [
    "my_file = open('centers.txt', 'w')\n",
    "for center in cluster_centers:\n",
    "    my_file.write(str(center[0])+','+str(center[1]))\n",
    "    my_file.write('\\n\\n')\n",
    "my_file.close()"
   ]
  },
  {
   "cell_type": "code",
   "execution_count": 134,
   "metadata": {},
   "outputs": [
    {
     "data": {
      "text/plain": [
       "[(33.751277, -118.18874),\n",
       " (25.867736, -80.324116),\n",
       " (51.503016, -0.075479),\n",
       " (52.378894, 4.885084),\n",
       " (39.366487, 117.036146),\n",
       " (-33.868457, 151.205134)]"
      ]
     },
     "execution_count": 134,
     "metadata": {},
     "output_type": "execute_result"
    }
   ],
   "source": [
    "offices\n"
   ]
  },
  {
   "cell_type": "code",
   "execution_count": null,
   "metadata": {},
   "outputs": [],
   "source": []
  }
 ],
 "metadata": {
  "kernelspec": {
   "display_name": "Python 3",
   "language": "python",
   "name": "python3"
  },
  "language_info": {
   "codemirror_mode": {
    "name": "ipython",
    "version": 3
   },
   "file_extension": ".py",
   "mimetype": "text/x-python",
   "name": "python",
   "nbconvert_exporter": "python",
   "pygments_lexer": "ipython3",
   "version": "3.6.5"
  }
 },
 "nbformat": 4,
 "nbformat_minor": 2
}
