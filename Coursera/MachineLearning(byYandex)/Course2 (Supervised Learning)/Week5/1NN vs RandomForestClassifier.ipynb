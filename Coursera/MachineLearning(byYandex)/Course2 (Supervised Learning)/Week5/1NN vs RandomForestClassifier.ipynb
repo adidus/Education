{
 "cells": [
  {
   "cell_type": "code",
   "execution_count": 1,
   "metadata": {},
   "outputs": [],
   "source": [
    "from sklearn import datasets\n",
    "import numpy as np\n",
    "from sklearn import ensemble, neighbors\n",
    "from sklearn.metrics import accuracy_score\n",
    "\n",
    "def write_answer(name, answer):\n",
    "    with open(name+\".txt\", \"w\") as f:\n",
    "        f.write(str(answer))        "
   ]
  },
  {
   "cell_type": "code",
   "execution_count": 2,
   "metadata": {},
   "outputs": [],
   "source": [
    "dataset = datasets.load_digits()\n",
    "X = dataset.data\n",
    "y = dataset.target"
   ]
  },
  {
   "cell_type": "code",
   "execution_count": 3,
   "metadata": {},
   "outputs": [],
   "source": [
    "X_train, X_test, y_train, y_test = X[:1348], X[1348:], y[:1348], y[1348:]"
   ]
  },
  {
   "cell_type": "code",
   "execution_count": 4,
   "metadata": {},
   "outputs": [],
   "source": [
    "neigh_estimator = neighbors.KNeighborsClassifier(n_neighbors=1, n_jobs=-1)\n",
    "neigh_estimator.fit(X_train, y_train)\n",
    "y_pred = neigh_estimator.predict(X_test)\n",
    "my_accuracy = accuracy_score(y_test, y_pred, normalize=False) / float(y_test.size)\n",
    "write_answer(\"1NN_error\", 1-my_accuracy)"
   ]
  },
  {
   "cell_type": "code",
   "execution_count": 5,
   "metadata": {},
   "outputs": [],
   "source": [
    "for_estimator = ensemble.RandomForestClassifier(n_estimators=1000, n_jobs=-1)\n",
    "for_estimator.fit(X_train, y_train)\n",
    "y_pred = for_estimator.predict(X_test)\n",
    "my_accuracy = accuracy_score(y_test, y_pred, normalize=False) / float(y_test.size)\n",
    "write_answer(\"RFC_error\", 1-my_accuracy)"
   ]
  }
 ],
 "metadata": {
  "kernelspec": {
   "display_name": "Python 3",
   "language": "python",
   "name": "python3"
  },
  "language_info": {
   "codemirror_mode": {
    "name": "ipython",
    "version": 3
   },
   "file_extension": ".py",
   "mimetype": "text/x-python",
   "name": "python",
   "nbconvert_exporter": "python",
   "pygments_lexer": "ipython3",
   "version": "3.6.5"
  }
 },
 "nbformat": 4,
 "nbformat_minor": 2
}
