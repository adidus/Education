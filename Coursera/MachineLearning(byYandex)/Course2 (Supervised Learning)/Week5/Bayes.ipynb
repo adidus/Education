{
 "cells": [
  {
   "cell_type": "code",
   "execution_count": 34,
   "metadata": {},
   "outputs": [],
   "source": [
    "from sklearn import datasets\n",
    "from sklearn.model_selection import cross_val_score\n",
    "from sklearn import naive_bayes\n",
    "\n",
    "def write_answer(name, answer):\n",
    "    with open(name+\".txt\", \"w\") as f:\n",
    "        f.write(str(answer))"
   ]
  },
  {
   "cell_type": "code",
   "execution_count": 35,
   "metadata": {},
   "outputs": [],
   "source": [
    "#loading datasets\n",
    "digits = datasets.load_digits()\n",
    "breast_cancer = datasets.load_breast_cancer()"
   ]
  },
  {
   "cell_type": "code",
   "execution_count": 43,
   "metadata": {},
   "outputs": [],
   "source": [
    "#getting target and data frame\n",
    "digits_data = digits.data\n",
    "digits_target = digits.target\n",
    "\n",
    "bc_data = breast_cancer.data\n",
    "bc_target = breast_cancer.target"
   ]
  },
  {
   "cell_type": "code",
   "execution_count": 46,
   "metadata": {},
   "outputs": [],
   "source": [
    "#making predict for digits\n",
    "\n",
    "digits_result = []\n",
    "digits_result.append(cross_val_score(estimator=naive_bayes.BernoulliNB(), X=digits_data, y=digits_target, n_jobs=-1).mean())\n",
    "digits_result.append(cross_val_score(estimator=naive_bayes.MultinomialNB(), X=digits_data, y=digits_target, n_jobs=-1).mean())\n",
    "digits_result.append(cross_val_score(estimator=naive_bayes.GaussianNB(), X=digits_data, y=digits_target, n_jobs=-1).mean())"
   ]
  },
  {
   "cell_type": "code",
   "execution_count": 47,
   "metadata": {},
   "outputs": [
    {
     "data": {
      "text/plain": [
       "[0.8258236507780582, 0.8708771489735053, 0.8186003803550138]"
      ]
     },
     "execution_count": 47,
     "metadata": {},
     "output_type": "execute_result"
    }
   ],
   "source": [
    "digits_result"
   ]
  },
  {
   "cell_type": "code",
   "execution_count": 48,
   "metadata": {},
   "outputs": [],
   "source": [
    "#making predict for breast_cancer\n",
    "\n",
    "bc_result = []\n",
    "bc_result.append(cross_val_score(estimator=naive_bayes.BernoulliNB(), X=bc_data, y=bc_target, n_jobs=-1).mean())\n",
    "bc_result.append(cross_val_score(estimator=naive_bayes.MultinomialNB(), X=bc_data, y=bc_target, n_jobs=-1).mean())\n",
    "bc_result.append(cross_val_score(estimator=naive_bayes.GaussianNB(), X=bc_data, y=bc_target, n_jobs=-1).mean())"
   ]
  },
  {
   "cell_type": "code",
   "execution_count": 49,
   "metadata": {},
   "outputs": [
    {
     "data": {
      "text/plain": [
       "[0.6274204028589994, 0.8945790401930752, 0.9367492806089297]"
      ]
     },
     "execution_count": 49,
     "metadata": {},
     "output_type": "execute_result"
    }
   ],
   "source": [
    "bc_result"
   ]
  },
  {
   "cell_type": "code",
   "execution_count": 51,
   "metadata": {},
   "outputs": [],
   "source": [
    "write_answer(\"bc\", max(bc_result))\n",
    "write_answer(\"digits\", max(digits_result))\n",
    "write_answer(\"theory\", \"3 4\")"
   ]
  },
  {
   "cell_type": "code",
   "execution_count": null,
   "metadata": {},
   "outputs": [],
   "source": []
  }
 ],
 "metadata": {
  "kernelspec": {
   "display_name": "Python 3",
   "language": "python",
   "name": "python3"
  },
  "language_info": {
   "codemirror_mode": {
    "name": "ipython",
    "version": 3
   },
   "file_extension": ".py",
   "mimetype": "text/x-python",
   "name": "python",
   "nbconvert_exporter": "python",
   "pygments_lexer": "ipython3",
   "version": "3.6.5"
  }
 },
 "nbformat": 4,
 "nbformat_minor": 2
}
