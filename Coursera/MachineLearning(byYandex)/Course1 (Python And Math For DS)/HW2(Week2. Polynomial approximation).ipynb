{
 "cells": [
  {
   "cell_type": "code",
   "execution_count": 37,
   "metadata": {},
   "outputs": [
    {
     "data": {
      "image/png": "[encoded data removed]",
      "text/plain": [
       "<matplotlib.figure.Figure at 0x2e1df787320>"
      ]
     },
     "metadata": {},
     "output_type": "display_data"
    }
   ],
   "source": [
    "import math\n",
    "import numpy as np\n",
    "import matplotlib.pyplot as plt\n",
    " \n",
    "from itertools import cycle\n",
    "from functools import partial\n",
    "from mpmath import mp\n",
    "\n",
    "fi = open('C:/Users\\YOGA 500\\Documents\\Coursera\\Python and math\\submission-2.txt', 'w')\n",
    "       \n",
    "# mp.dps = 25\n",
    "# mp.pretty = False\n",
    " \n",
    " \n",
    " \n",
    "def f(x, ctx=math):\n",
    "    return ctx.sin(x / 5) * ctx.exp(x / 10) + 5 * ctx.exp(-x / 2)\n",
    " \n",
    " \n",
    "def approx_f(x, ws):\n",
    "    return sum(x**i * w for i, w in enumerate(ws))\n",
    " \n",
    " \n",
    "def a_matrix(xs, *, matrix=lambda x: x):\n",
    "    return matrix([[x**n for n in range(len(xs))] for x in xs])\n",
    " \n",
    "    \n",
    "def b_matrix(xs, f, *, matrix=lambda x: x):\n",
    "    return matrix([f(x) for x in xs])\n",
    "   \n",
    " \n",
    " \n",
    "xpoints = [\n",
    "    (1, 4, 10, 15),\n",
    "]\n",
    " \n",
    "fs = [f]\n",
    "for xs in xpoints:\n",
    "    a = a_matrix(xs)\n",
    "    b = b_matrix(xs, f)\n",
    "    # ws = mp.lu_solve(a, b)\n",
    "    # ws = scipy.linalg.solve(a, b)\n",
    "    ws = np.linalg.solve(a,b)\n",
    "    tf = partial(approx_f, ws=ws)\n",
    "s = ''\n",
    "for i in range(0, len(ws)):\n",
    "    a = str(ws[i])\n",
    "    s += ' '\n",
    "    s += a\n",
    "print(s, file = fi)\n",
    "fi.close()\n",
    "plot(fs, (0, 16))"
   ]
  },
  {
   "cell_type": "code",
   "execution_count": null,
   "metadata": {
    "collapsed": true
   },
   "outputs": [],
   "source": []
  }
 ],
 "metadata": {
  "kernelspec": {
   "display_name": "Python 3",
   "language": "python",
   "name": "python3"
  },
  "language_info": {
   "codemirror_mode": {
    "name": "ipython",
    "version": 3
   },
   "file_extension": ".py",
   "mimetype": "text/x-python",
   "name": "python",
   "nbconvert_exporter": "python",
   "pygments_lexer": "ipython3",
   "version": "3.6.1"
  }
 },
 "nbformat": 4,
 "nbformat_minor": 2
}
