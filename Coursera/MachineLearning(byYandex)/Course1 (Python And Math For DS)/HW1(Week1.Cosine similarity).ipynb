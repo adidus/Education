{
 "cells": [
  {
   "cell_type": "code",
   "execution_count": 5,
   "metadata": {
    "collapsed": true
   },
   "outputs": [],
   "source": [
    "import numpy as np\n",
    "from scipy import spatial\n",
    "import re\n",
    "from numpy import zeros, dot, savetxt\n",
    "from numpy.linalg import norm"
   ]
  },
  {
   "cell_type": "code",
   "execution_count": 6,
   "metadata": {},
   "outputs": [],
   "source": [
    "file = open('C:/Users\\YOGA 500\\Documents\\Coursera\\Python and math\\sentences.txt', 'r')\n",
    "f = open('C:/Users\\YOGA 500\\Documents\\Coursera\\Python and math\\submission-1.txt', 'w')\n",
    "tokens = {}\n",
    "wor = 0\n",
    "sen = 0\n",
    "lines = sum(1 for _ in file)\n",
    "file.seek(0)\n",
    "for line in file:\n",
    "    line = line.lower()\n",
    "    words = re.split('[^a-z]', line)\n",
    "    i = 0\n",
    "    while i < len(words):\n",
    "        if words[i] == '':\n",
    "            del words[i]\n",
    "        else:\n",
    "            i+=1\n",
    "    i = 0\n",
    "    for word in words:\n",
    "        if word not in tokens:\n",
    "            tokens[word] = {\n",
    "                        \"index\": wor,\n",
    "                        \"occurrences\": [0] * lines\n",
    "                    }\n",
    "            wor += 1\n",
    "        elif tokens[word][\"occurrences\"][sen] != 0:\n",
    "                    continue  \n",
    "        \n",
    "        tokens[word][\"occurrences\"][sen] = words.count(word)\n",
    "    sen += 1\n",
    "arr = zeros((lines, len(tokens)))\n",
    "\n",
    "for token in tokens:\n",
    "            i, j = 0, tokens[token][\"index\"]\n",
    "            for occ in tokens[token][\"occurrences\"]:\n",
    "                arr[i, j] = occ\n",
    "                i += 1\n",
    "distance = []\n",
    "u = arr[0,] \n",
    "\n",
    "for i in range(1,lines):\n",
    "    v = arr[i,]\n",
    "    distance.append({\"the number\": i, \"cos.dist\": spatial.distance.cosine(u, v)})\n",
    "\n",
    "distance.sort(key=lambda x: x[\"cos.dist\"])\n",
    "a = distance[0]['the number']\n",
    "b = distance[1]['the number']\n",
    "print(a, b, file = f)"
   ]
  },
  {
   "cell_type": "code",
   "execution_count": null,
   "metadata": {
    "collapsed": true
   },
   "outputs": [],
   "source": []
  },
  {
   "cell_type": "code",
   "execution_count": null,
   "metadata": {
    "collapsed": true
   },
   "outputs": [],
   "source": []
  }
 ],
 "metadata": {
  "kernelspec": {
   "display_name": "Python 3",
   "language": "python",
   "name": "python3"
  }
 },
 "nbformat": 4,
 "nbformat_minor": 2
}
